{
 "cells": [
  {
   "cell_type": "markdown",
   "metadata": {},
   "source": [
    "# TP 3\n",
    "Author : MARZAT Noé"
   ]
  },
  {
   "cell_type": "code",
   "execution_count": 3,
   "metadata": {},
   "outputs": [],
   "source": [
    "# Imports \n",
    "import numpy as np\n",
    "import matplotlib.pyplot as plt\n",
    "import cv2 as cv"
   ]
  },
  {
   "cell_type": "code",
   "execution_count": 4,
   "metadata": {},
   "outputs": [],
   "source": [
    "img1 = cv.imread(\"img-tp3/TP3I01.jpg\", cv.IMREAD_GRAYSCALE)\n",
    "\n",
    "kernel = np.array([ [-1, -1, -1], \n",
    "                    [-1,  8, -1], \n",
    "                    [-1, -1, -1]])\n",
    "\n",
    "img2 = cv.filter2D(img1, -1, kernel)\n",
    "\n",
    "# Afficher l'image originale et le spectre de Fourier\n",
    "plt.subplot(121), plt.imshow(img1, cmap=\"gray\")\n",
    "plt.title(\"Image originale\"), plt.axis(\"off\")\n",
    "plt.subplot(122), plt.imshow(img2, cmap=\"gray\")\n",
    "plt.title(\"Image filtree\"), plt.axis(\"off\")\n",
    "plt.show()"
   ]
  }
 ],
 "metadata": {
  "kernelspec": {
   "display_name": ".venv",
   "language": "python",
   "name": "python3"
  },
  "language_info": {
   "codemirror_mode": {
    "name": "ipython",
    "version": 3
   },
   "file_extension": ".py",
   "mimetype": "text/x-python",
   "name": "python",
   "nbconvert_exporter": "python",
   "pygments_lexer": "ipython3",
   "version": "3.10.12"
  }
 },
 "nbformat": 4,
 "nbformat_minor": 2
}
