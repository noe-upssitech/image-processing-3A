{
 "cells": [
  {
   "cell_type": "markdown",
   "metadata": {},
   "source": [
    "# TP 2\n",
    "Author : MARZAT Noé"
   ]
  },
  {
   "cell_type": "code",
   "execution_count": 1,
   "metadata": {},
   "outputs": [],
   "source": [
    "# Imports \n",
    "\n",
    "import numpy as np\n",
    "import matplotlib.pyplot as plt\n",
    "import cv2 as cv"
   ]
  },
  {
   "cell_type": "code",
   "execution_count": null,
   "metadata": {},
   "outputs": [],
   "source": [
    "i1 = cv.imread(\"img-tp2/sift1.jpg\")\n",
    "i2 = cv.imread(\"img-tp2/sift2.jpg\")\n",
    "\n",
    "img1 = cv.cvtColor(i1, cv.COLOR_BGR2GRAY)\n",
    "img2 = cv.cvtColor(i2, cv.COLOR_BGR2GRAY)\n",
    "\n",
    "sift = cv.SIFT_create()\n",
    "\n",
    "k_1, des_1 = sift.detectAndCompute(img1, None)\n",
    "k_2, des_2 = sift.detectAndCompute(img2, None)\n",
    "\n",
    "bf = cv.BFMatcher(cv.NORM_L1, crossCheck=True)\n",
    "\n",
    "matches = bf.match(des_1, des_2)\n",
    "matches = sorted(matches, key=lambda x: x.distance)\n",
    "img3 = cv.drawMatches(img1, k_1, img2, k_2, matches[:50], img2, flags=2)\n",
    "\n",
    "\n",
    "cv.imshow(\"Output\", img3)\n",
    "cv.waitKey(0)\n",
    "cv.destroyAllWindows()"
   ]
  }
 ],
 "metadata": {
  "kernelspec": {
   "display_name": ".venv",
   "language": "python",
   "name": "python3"
  },
  "language_info": {
   "codemirror_mode": {
    "name": "ipython",
    "version": 3
   },
   "file_extension": ".py",
   "mimetype": "text/x-python",
   "name": "python",
   "nbconvert_exporter": "python",
   "pygments_lexer": "ipython3",
   "version": "3.10.12"
  }
 },
 "nbformat": 4,
 "nbformat_minor": 2
}
