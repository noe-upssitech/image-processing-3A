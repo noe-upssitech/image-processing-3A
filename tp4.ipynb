{
 "cells": [
  {
   "cell_type": "markdown",
   "metadata": {},
   "source": [
    "# TP 4\n",
    "Author : MARZAT Noé"
   ]
  },
  {
   "cell_type": "code",
   "execution_count": 1,
   "metadata": {},
   "outputs": [],
   "source": [
    "# Imports \n",
    "import numpy as np\n",
    "import matplotlib.pyplot as plt\n",
    "import cv2 as cv"
   ]
  },
  {
   "cell_type": "code",
   "execution_count": 2,
   "metadata": {},
   "outputs": [],
   "source": [
    "def load_binary_image(filename):\n",
    "    img = cv.imread(filename, cv.IMREAD_GRAYSCALE)             # load as grayscale\n",
    "    img = cv.normalize(img, None, 0.0, 1.0, cv.NORM_MINMAX)    # binarize\n",
    "    return img\n",
    "\n",
    "def plot3(im1, im2, im3):\n",
    "    plt.subplot(1, 3, 1)\n",
    "    plt.imshow(im1, cmap='gray')\n",
    "    plt.subplot(1, 3, 2)\n",
    "    plt.imshow(im2, cmap='gray')\n",
    "    plt.subplot(1, 3, 3)\n",
    "    plt.imshow(im3, cmap='gray')\n",
    "    plt.show()"
   ]
  },
  {
   "cell_type": "code",
   "execution_count": 5,
   "metadata": {},
   "outputs": [],
   "source": [
    "carre = load_binary_image(\"img-tp4/carre.png\")\n",
    "cercle = load_binary_image(\"img-tp4/cercle.png\")\n",
    "triangle = load_binary_image(\"img-tp4/triangle.png\")\n",
    "\n",
    "plot3(carre, cercle, triangle)"
   ]
  }
 ],
 "metadata": {
  "kernelspec": {
   "display_name": ".venv",
   "language": "python",
   "name": "python3"
  },
  "language_info": {
   "codemirror_mode": {
    "name": "ipython",
    "version": 3
   },
   "file_extension": ".py",
   "mimetype": "text/x-python",
   "name": "python",
   "nbconvert_exporter": "python",
   "pygments_lexer": "ipython3",
   "version": "3.10.12"
  }
 },
 "nbformat": 4,
 "nbformat_minor": 2
}
